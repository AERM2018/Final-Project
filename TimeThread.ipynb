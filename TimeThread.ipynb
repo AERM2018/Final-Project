{
  "nbformat": 4,
  "nbformat_minor": 0,
  "metadata": {
    "colab": {
      "name": "TimeThread.ipynb",
      "provenance": [],
      "collapsed_sections": []
    },
    "kernelspec": {
      "name": "python3",
      "display_name": "Python 3"
    }
  },
  "cells": [
    {
      "cell_type": "code",
      "metadata": {
        "id": "wuGnV14AY9Kk",
        "colab_type": "code",
        "colab": {}
      },
      "source": [
        "import threading\n",
        "import time\n",
        "import os\n",
        "\n",
        "class TimeThread (threading.Thread):\n",
        "  \n",
        "    def __init__(self):\n",
        "        threading.Thread.__init__(self)\n",
        "        self.stopit = threading.Event()\n",
        "  \n",
        "    def stop(self):\n",
        "        self.stopit.set()\n",
        "\n",
        "    def isStopped(self):\n",
        "        return self.stopit.isSet()\n",
        "\n",
        "    def run(self):\n",
        "        cont = 10\n",
        "        #function to measure the time in a different thread\n",
        "        while True:\n",
        "            \n",
        "            if self.isStopped():\n",
        "                return\n",
        "            elif (cont) ==0:\n",
        "                print(\"Se acabo tu tiempo, presiona enter para continuar\")\n",
        "                return\n",
        "            print(\"{}.\".format(cont),end=' ' )\n",
        "            cont-=1\n",
        "            time.sleep(1)"
      ],
      "execution_count": 0,
      "outputs": []
    }
  ]
}